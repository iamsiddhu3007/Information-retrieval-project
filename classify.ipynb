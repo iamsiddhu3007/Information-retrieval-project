{
 "cells": [
  {
   "cell_type": "code",
   "execution_count": 9,
   "outputs": [
    {
     "name": "stdout",
     "output_type": "stream",
     "text": [
      "contents cleared.\n"
     ]
    }
   ],
   "source": [
    "import os\n",
    "\n",
    "filename = 'classify.csv'\n",
    "\n",
    "if os.path.isfile(filename):\n",
    "    with open(filename, 'w', newline='') as f:\n",
    "        f.write('')\n",
    "        print(\"contents cleared.\")\n",
    "else:\n",
    "    print(\"error\")\n"
   ],
   "metadata": {
    "collapsed": false
   }
  },
  {
   "cell_type": "code",
   "execution_count": 10,
   "outputs": [
    {
     "name": "stdout",
     "output_type": "stream",
     "text": [
      "0        48.214988\n",
      "1        49.698988\n",
      "2        50.048988\n",
      "3        50.342988\n",
      "4        51.681988\n",
      "          ...     \n",
      "994    1010.247988\n",
      "995    1010.984988\n",
      "996    1012.196988\n",
      "997    1013.721988\n",
      "998    1015.112988\n",
      "Name: time_score, Length: 999, dtype: float64\n",
      "0      0\n",
      "1      0\n",
      "2      2\n",
      "3      0\n",
      "4      0\n",
      "      ..\n",
      "994    2\n",
      "995    0\n",
      "996    0\n",
      "997    2\n",
      "998    0\n",
      "Name: likes_score, Length: 999, dtype: int64\n",
      "done\n"
     ]
    }
   ],
   "source": [
    "import pandas as pd\n",
    "\n",
    "# Load the tweets from the CSV file\n",
    "df = pd.read_csv('corpus.csv')\n",
    "\n",
    "# Convert the tweet timestamps to datetime objects\n",
    "df['timestamp'] = pd.to_datetime(df['Date'], format='%Y-%m-%d %H:%M:%S%z')\n",
    "\n",
    "# Define the weights for each attribute\n",
    "time_weight = 1\n",
    "likes_weight = 2\n",
    "followers_weight = 3\n",
    "retweets_weight = 4\n",
    "\n",
    "# Compute a composite score for each tweet based on the timestamp, likes, followers, and retweets\n",
    "df['time_score'] = ((pd.Timestamp.now(tz='UTC') - df['timestamp']).dt.total_seconds() * time_weight)/1000\n",
    "print(df['time_score'])\n",
    "df['likes_score'] = df['Likes'] * likes_weight\n",
    "print(df['likes_score'])\n",
    "df['followers_score'] = (df['Followers'] * followers_weight)/1000\n",
    "df['retweets_score'] = df['Retweets'] * retweets_weight\n",
    "df['score'] = df['time_score'] + df['likes_score'] + df['followers_score'] + df['retweets_score']\n",
    "\n",
    "# Sort the tweets by their composite score (in descending order)\n",
    "df_sorted = df.sort_values(by='score', ascending=False)\n",
    "\n",
    "# Assign a rank to each tweet based on its position in the sorted list\n",
    "df_sorted['rank'] = range(1, len(df_sorted) + 1)\n",
    "\n",
    "print(\"done\")\n",
    "# Print the ranked tweets\n",
    "# for _, tweet in df_sorted.iterrows():\n",
    "#     print(f\"Rank {tweet['rank']}: Tweet ID {tweet['Url']} has a score of {tweet['score']}\")\n",
    "\n",
    "# Append the output to a CSV file\n",
    "df_sorted.to_csv('classify.csv', mode='a', header=False, index=False)\n"
   ],
   "metadata": {
    "collapsed": false
   }
  },
  {
   "cell_type": "code",
   "execution_count": 44,
   "outputs": [],
   "source": [],
   "metadata": {
    "collapsed": false
   }
  }
 ],
 "metadata": {
  "kernelspec": {
   "display_name": "Python 3 (ipykernel)",
   "language": "python",
   "name": "python3"
  },
  "language_info": {
   "codemirror_mode": {
    "name": "ipython",
    "version": 3
   },
   "file_extension": ".py",
   "mimetype": "text/x-python",
   "name": "python",
   "nbconvert_exporter": "python",
   "pygments_lexer": "ipython3",
   "version": "3.11.1"
  }
 },
 "nbformat": 4,
 "nbformat_minor": 1
}
