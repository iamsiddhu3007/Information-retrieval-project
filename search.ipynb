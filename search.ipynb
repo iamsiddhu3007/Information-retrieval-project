{
 "cells": [
  {
   "cell_type": "code",
   "execution_count": null,
   "outputs": [],
   "source": [],
   "metadata": {
    "collapsed": false
   }
  },
  {
   "cell_type": "code",
   "execution_count": 1,
   "metadata": {
    "collapsed": true
   },
   "outputs": [],
   "source": [
    "#search"
   ]
  },
  {
   "cell_type": "code",
   "execution_count": 2,
   "outputs": [
    {
     "name": "stderr",
     "output_type": "stream",
     "text": [
      "[nltk_data] Downloading package punkt to\n",
      "[nltk_data]     C:\\Users\\siddh\\AppData\\Roaming\\nltk_data...\n",
      "[nltk_data]   Package punkt is already up-to-date!\n",
      "[nltk_data] Downloading package stopwords to\n",
      "[nltk_data]     C:\\Users\\siddh\\AppData\\Roaming\\nltk_data...\n",
      "[nltk_data]   Package stopwords is already up-to-date!\n",
      "[nltk_data] Downloading package wordnet to\n",
      "[nltk_data]     C:\\Users\\siddh\\AppData\\Roaming\\nltk_data...\n",
      "[nltk_data]   Package wordnet is already up-to-date!\n"
     ]
    }
   ],
   "source": [
    "import string\n",
    "import glob\n",
    "import nltk\n",
    "import math\n",
    "import os\n",
    "from collections import defaultdict\n",
    "import copy\n",
    "nltk.download('punkt')\n",
    "nltk.download('stopwords')\n",
    "nltk.download('wordnet')\n",
    "from nltk.stem import PorterStemmer\n",
    "from nltk.tokenize import word_tokenize\n",
    "from nltk.corpus import stopwords\n",
    "from nltk.stem.wordnet import WordNetLemmatizer"
   ],
   "metadata": {
    "collapsed": false
   }
  },
  {
   "cell_type": "code",
   "execution_count": 3,
   "outputs": [],
   "source": [
    "import tweepy"
   ],
   "metadata": {
    "collapsed": false
   }
  },
  {
   "cell_type": "code",
   "execution_count": 4,
   "outputs": [],
   "source": [
    "# consumer_key='fRg1ybVEYktYKmzX1yc9faJP7'\n",
    "# consumer_secret='RtaJApkrJxrW4fk7SELDanXslvBztwl1qVEqIrgTAicN9YPmeA'\n",
    "# access_token='1641367187230162945-B8qTOKgps8tsVeXZeuE4OJHxAanxzb'\n",
    "# access_token_secret='Xrl2gjoDCukzO5hNx398FGMgJUZWIkAp9At6nzSN2oyQF'\n",
    "# auth = tweepy.OAuth1UserHandler(\n",
    "#    consumer_key, consumer_secret, access_token, access_token_secret\n",
    "# )\n",
    "# api = tweepy.API(auth)\n",
    "#\n",
    "# public_tweets = api.home_timeline()\n",
    "# for tweet in public_tweets:\n",
    "#     print(tweet.text)"
   ],
   "metadata": {
    "collapsed": false
   }
  },
  {
   "cell_type": "code",
   "execution_count": 13,
   "outputs": [
    {
     "name": "stderr",
     "output_type": "stream",
     "text": [
      "C:\\Users\\siddh\\AppData\\Local\\Temp\\ipykernel_18416\\2664053839.py:16: DeprecatedFeatureWarning: username is deprecated, use user.username instead\n",
      "  tweets.append([tweet.date, tweet.username, tweet.content, tweet.user.followersCount, tweet.likeCount, tweet.retweetCount, tweet.hashtags])\n",
      "C:\\Users\\siddh\\AppData\\Local\\Temp\\ipykernel_18416\\2664053839.py:16: DeprecatedFeatureWarning: content is deprecated, use rawContent instead\n",
      "  tweets.append([tweet.date, tweet.username, tweet.content, tweet.user.followersCount, tweet.likeCount, tweet.retweetCount, tweet.hashtags])\n"
     ]
    },
    {
     "name": "stdout",
     "output_type": "stream",
     "text": [
      "                         Date            User  \\\n",
      "0   2023-03-30 12:10:51+00:00  aishbhardwaj88   \n",
      "1   2023-03-30 12:04:19+00:00  ghettocowgworl   \n",
      "2   2023-03-30 12:00:22+00:00    Mike_Scully_   \n",
      "3   2023-03-30 11:57:09+00:00     AlainDouzal   \n",
      "4   2023-03-30 11:52:38+00:00    ophiomormous   \n",
      "..                        ...             ...   \n",
      "995 2023-03-27 10:08:20+00:00  bloodlineprint   \n",
      "996 2023-03-27 09:48:29+00:00      floralshi_   \n",
      "997 2023-03-27 09:42:00+00:00    Snowywizard_   \n",
      "998 2023-03-27 09:36:31+00:00       KingThona   \n",
      "999 2023-03-27 09:34:41+00:00    iheartguitar   \n",
      "\n",
      "                                                 Tweet  Followers  Likes  \\\n",
      "0    Hi Twitter\\n\\nPlease do your magic✨and help me...       1867      2   \n",
      "1    @Justoromi i thought deleting the app would he...       4480      0   \n",
      "2    That's a wrap!\\n\\nIf you enjoyed this thread a...      17972      2   \n",
      "3    Hi @elonmusk, with hardworking, I have created...       1151      3   \n",
      "4    Guys, gue gabut, apakah disini ada yg main rp ...        683      0   \n",
      "..                                                 ...        ...    ...   \n",
      "995  @intoyoustyle aww user twitter user intoyousty...       5719     10   \n",
      "996  @SEEKlNGTRUTHS can someone please HELP ME OUT ...          0      0   \n",
      "997  @Orbiter_Finance @0xPolygon I have lost over 1...       2872     11   \n",
      "998  Since Aunty tiwa @TiwaSavage dropped stamina I...       1030     29   \n",
      "999  Twitter, help me do a decision. https://t.co/U...      14239     15   \n",
      "\n",
      "     Retweets Hashtags  \n",
      "0           0     None  \n",
      "1           0     None  \n",
      "2           0     None  \n",
      "3           0     None  \n",
      "4           0     None  \n",
      "..        ...      ...  \n",
      "995         0     None  \n",
      "996         0     None  \n",
      "997         0     None  \n",
      "998        14     None  \n",
      "999         0     None  \n",
      "\n",
      "[1000 rows x 7 columns]\n"
     ]
    }
   ],
   "source": [
    "import snscrape.modules.twitter as sntwitter\n",
    "import pandas as pd\n",
    "\n",
    "query = \"help me twitter\"\n",
    "tweets = []\n",
    "limit = 1000\n",
    "\n",
    "\n",
    "for tweet in sntwitter.TwitterSearchScraper(query).get_items():\n",
    "\n",
    "    # print(vars(tweet))\n",
    "    # break\n",
    "    if len(tweets) == limit:\n",
    "        break\n",
    "    else:\n",
    "        tweets.append([tweet.date, tweet.username, tweet.content, tweet.user.followersCount, tweet.likeCount, tweet.retweetCount, tweet.hashtags])\n",
    "\n",
    "df = pd.DataFrame(tweets, columns=['Date', 'User', 'Tweet', 'Followers', 'Likes', 'Retweets', 'Hashtags'])\n",
    "print(df)\n"
   ],
   "metadata": {
    "collapsed": false
   }
  },
  {
   "cell_type": "code",
   "execution_count": 14,
   "outputs": [],
   "source": [
    "df.to_csv('corpus.csv')"
   ],
   "metadata": {
    "collapsed": false
   }
  },
  {
   "cell_type": "code",
   "execution_count": 15,
   "outputs": [
    {
     "name": "stderr",
     "output_type": "stream",
     "text": [
      "C:\\Users\\siddh\\AppData\\Local\\Temp\\ipykernel_18416\\405132665.py:13: DeprecatedFeatureWarning: username is deprecated, use user.username instead\n",
      "  tweets.append([tweet.date, tweet.username, tweet.content, tweet.user.followersCount, tweet.likeCount, tweet.retweetCount, tweet.hashtags])\n",
      "C:\\Users\\siddh\\AppData\\Local\\Temp\\ipykernel_18416\\405132665.py:13: DeprecatedFeatureWarning: content is deprecated, use rawContent instead\n",
      "  tweets.append([tweet.date, tweet.username, tweet.content, tweet.user.followersCount, tweet.likeCount, tweet.retweetCount, tweet.hashtags])\n"
     ]
    },
    {
     "name": "stdout",
     "output_type": "stream",
     "text": [
      "                         Date             User  \\\n",
      "0   2023-03-30 12:20:03+00:00  RaspberryPLinux   \n",
      "1   2023-03-30 12:20:01+00:00      echojobs_io   \n",
      "2   2023-03-30 12:20:00+00:00       ingliguori   \n",
      "3   2023-03-30 12:19:58+00:00       okdesuyone   \n",
      "4   2023-03-30 12:19:57+00:00        Python59P   \n",
      "..                        ...              ...   \n",
      "995 2023-03-30 10:24:27+00:00          DD_Bun_   \n",
      "996 2023-03-30 10:24:25+00:00            noyse   \n",
      "997 2023-03-30 10:24:17+00:00        BMC_D_DEV   \n",
      "998 2023-03-30 10:24:13+00:00       sscdotopen   \n",
      "999 2023-03-30 10:23:58+00:00         slammllc   \n",
      "\n",
      "                                                 Tweet  Followers  Likes  \\\n",
      "0    ¿Quieres aprender los conceptos básicos de la ...       1464      0   \n",
      "1    ✋ Nutanix is hiring Senior Elixir Developer wi...       1292      0   \n",
      "2    Exploring the #AI technology landscape: from #...      51433      0   \n",
      "3    @no_X899 @paiza_learning そうよね！ そもそもaってどこで宣言された...        725      0   \n",
      "4                                       @RileyZoby Thx          8      0   \n",
      "..                                                 ...        ...    ...   \n",
      "995  Market Basket Analysis in Python. Explore asso...      16908      0   \n",
      "996  jibt gerade Monty Python and the Holy Grail (1...          7      0   \n",
      "997  @Kynsofficial Am a python backend Dev and I wa...         14      0   \n",
      "998  Ok, so I have to write a command-line compatib...       2487     11   \n",
      "999  Your BULLETPROOF 90 Day Cybersecurity Career R...        157     19   \n",
      "\n",
      "     Retweets                                           Hashtags  \n",
      "0           0                                               None  \n",
      "1           0  [Backend, Infrastructure, python, elixir, grap...  \n",
      "2           0  [AI, MachineLearning, TechTrends, Python, GPT3...  \n",
      "3           0                                               None  \n",
      "4           0                                               None  \n",
      "..        ...                                                ...  \n",
      "995         0                   [python, marketbasket, analysis]  \n",
      "996         0                [MontyPythonAndTheHolyGrail, trakt]  \n",
      "997         0                                               None  \n",
      "998         1                                               None  \n",
      "999         3                    [cybersecurity, cyberawareness]  \n",
      "\n",
      "[1000 rows x 7 columns]\n"
     ]
    }
   ],
   "source": [
    "query = \"python\"\n",
    "tweets = []\n",
    "limit = 1000\n",
    "\n",
    "\n",
    "for tweet in sntwitter.TwitterSearchScraper(query).get_items():\n",
    "\n",
    "    # print(vars(tweet))\n",
    "    # break\n",
    "    if len(tweets) == limit:\n",
    "        break\n",
    "    else:\n",
    "        tweets.append([tweet.date, tweet.username, tweet.content, tweet.user.followersCount, tweet.likeCount, tweet.retweetCount, tweet.hashtags])\n",
    "\n",
    "df = pd.DataFrame(tweets, columns=['Date', 'User', 'Tweet', 'Followers', 'Likes', 'Retweets', 'Hashtags'])\n",
    "print(df)"
   ],
   "metadata": {
    "collapsed": false
   }
  },
  {
   "cell_type": "code",
   "execution_count": 16,
   "outputs": [],
   "source": [
    "df.to_csv('existing.csv', mode='a', index=False, header=False)"
   ],
   "metadata": {
    "collapsed": false
   }
  },
  {
   "cell_type": "code",
   "execution_count": null,
   "outputs": [],
   "source": [],
   "metadata": {
    "collapsed": false
   }
  }
 ],
 "metadata": {
  "kernelspec": {
   "display_name": "Python 3",
   "language": "python",
   "name": "python3"
  },
  "language_info": {
   "codemirror_mode": {
    "name": "ipython",
    "version": 2
   },
   "file_extension": ".py",
   "mimetype": "text/x-python",
   "name": "python",
   "nbconvert_exporter": "python",
   "pygments_lexer": "ipython2",
   "version": "2.7.6"
  }
 },
 "nbformat": 4,
 "nbformat_minor": 0
}
