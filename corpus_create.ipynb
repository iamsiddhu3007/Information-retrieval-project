{
 "cells": [
  {
   "cell_type": "code",
   "execution_count": 4,
   "outputs": [],
   "source": [
    "#create the csv file of corpus and do preprocessing of documents"
   ],
   "metadata": {
    "collapsed": false
   }
  },
  {
   "cell_type": "code",
   "execution_count": 15,
   "outputs": [],
   "source": [
    "import snscrape.modules.twitter as sntwitter\n",
    "import pandas as pd\n",
    "from langdetect import detect\n",
    "import pickle\n",
    "from sklearn.feature_extraction.text import TfidfVectorizer"
   ],
   "metadata": {
    "collapsed": false
   }
  },
  {
   "cell_type": "code",
   "execution_count": 16,
   "outputs": [],
   "source": [
    "def corpus_create(query):\n",
    "    limit = 2000\n",
    "    tweets = [['Date', 'User', 'Tweet', 'Url', 'Followers', 'Likes', 'Retweets','Category', 'Spam/Ham']]\n",
    "    with open('classify_model.pkl', 'rb') as f:\n",
    "        category_model = pickle.load(f)\n",
    "\n",
    "    with open('spam_model.pkl', 'rb') as f:\n",
    "        spam_model = pickle.load(f)\n",
    "\n",
    "    with open('vectorizer.pkl', 'rb') as file:\n",
    "        feature_extraction = pickle.load(file)\n",
    "    v={35: 'U.S. NEWS', 5: 'COMEDY', 22: 'PARENTING', 40: 'WORLD NEWS', 7: 'CULTURE & ARTS', 32: 'TECH', 28: 'SPORTS', 10: 'ENTERTAINMENT', 24: 'POLITICS', 37: 'WEIRD NEWS', 11: 'ENVIRONMENT', 9: 'EDUCATION', 6: 'CRIME', 27: 'SCIENCE', 38: 'WELLNESS', 3: 'BUSINESS', 30: 'STYLE & BEAUTY', 13: 'FOOD & DRINK', 20: 'MEDIA', 25: 'QUEER VOICES', 17: 'HOME & LIVING', 39: 'WOMEN', 2: 'BLACK VOICES', 34: 'TRAVEL', 21: 'MONEY', 26: 'RELIGION', 19: 'LATINO VOICES', 18: 'IMPACT', 36: 'WEDDINGS', 4: 'COLLEGE', 23: 'PARENTS', 1: 'ARTS & CULTURE', 29: 'STYLE', 15: 'GREEN', 31: 'TASTE', 16: 'HEALTHY LIVING', 33: 'THE WORLDPOST', 14: 'GOOD NEWS', 41: 'WORLDPOST', 12: 'FIFTY', 0: 'ARTS', 8: 'DIVORCE'}\n",
    "    for tweet in sntwitter.TwitterSearchScraper(query).get_items():\n",
    "        # print(vars(tweet))\n",
    "        # break\n",
    "        if len(tweets) == limit:\n",
    "            break\n",
    "        else:\n",
    "            if detect(tweet.content)=='en':\n",
    "                spam_prediction = spam_model.predict(feature_extraction.transform([tweet.content]))\n",
    "                if spam_prediction[0] == 1:\n",
    "                    spam_pre='Ham'\n",
    "                else:\n",
    "                    spam_pre='Spam'\n",
    "                category=v[category_model.predict([tweet.content])[0]]\n",
    "                tweets.append([tweet.date, tweet.username, tweet.content,tweet.url, tweet.user.followersCount, tweet.likeCount, tweet.retweetCount,category,spam_pre])\n",
    "\n",
    "    df = pd.DataFrame(tweets, columns=['Date', 'User', 'Tweet','Url', 'Followers', 'Likes', 'Retweets','Category','Spam/Ham'])\n",
    "    df.to_csv('corpus.csv', mode='a', index=False, header=False)"
   ],
   "metadata": {
    "collapsed": false
   }
  },
  {
   "cell_type": "code",
   "execution_count": 17,
   "outputs": [
    {
     "name": "stderr",
     "output_type": "stream",
     "text": [
      "C:\\Users\\siddh\\AppData\\Local\\Temp\\ipykernel_15096\\554978487.py:19: DeprecatedFeatureWarning: content is deprecated, use rawContent instead\n",
      "  if detect(tweet.content)=='en':\n",
      "C:\\Users\\siddh\\AppData\\Local\\Temp\\ipykernel_15096\\554978487.py:20: DeprecatedFeatureWarning: content is deprecated, use rawContent instead\n",
      "  spam_prediction = spam_model.predict(feature_extraction.transform([tweet.content]))\n",
      "C:\\Users\\siddh\\AppData\\Local\\Temp\\ipykernel_15096\\554978487.py:25: DeprecatedFeatureWarning: content is deprecated, use rawContent instead\n",
      "  category=v[category_model.predict([tweet.content])[0]]\n",
      "C:\\Users\\siddh\\AppData\\Local\\Temp\\ipykernel_15096\\554978487.py:26: DeprecatedFeatureWarning: username is deprecated, use user.username instead\n",
      "  tweets.append([tweet.date, tweet.username, tweet.content,tweet.url, tweet.user.followersCount, tweet.likeCount, tweet.retweetCount,category,spam_pre])\n",
      "C:\\Users\\siddh\\AppData\\Local\\Temp\\ipykernel_15096\\554978487.py:26: DeprecatedFeatureWarning: content is deprecated, use rawContent instead\n",
      "  tweets.append([tweet.date, tweet.username, tweet.content,tweet.url, tweet.user.followersCount, tweet.likeCount, tweet.retweetCount,category,spam_pre])\n"
     ]
    }
   ],
   "source": [
    "query = \"youtube social media instagram \"\n",
    "corpus_create(query)"
   ],
   "metadata": {
    "collapsed": false
   }
  },
  {
   "cell_type": "code",
   "execution_count": 9,
   "outputs": [],
   "source": [],
   "metadata": {
    "collapsed": false
   }
  }
 ],
 "metadata": {
  "kernelspec": {
   "display_name": "Python 3",
   "language": "python",
   "name": "python3"
  },
  "language_info": {
   "codemirror_mode": {
    "name": "ipython",
    "version": 2
   },
   "file_extension": ".py",
   "mimetype": "text/x-python",
   "name": "python",
   "nbconvert_exporter": "python",
   "pygments_lexer": "ipython2",
   "version": "2.7.6"
  }
 },
 "nbformat": 4,
 "nbformat_minor": 0
}
