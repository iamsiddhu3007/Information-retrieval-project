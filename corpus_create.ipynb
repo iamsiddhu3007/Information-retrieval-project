{
 "cells": [
  {
   "cell_type": "code",
   "execution_count": 1,
   "outputs": [],
   "source": [
    "from langdetect import detect\n",
    "import snscrape.modules.twitter as sntwitter\n",
    "import pandas as pd\n",
    "from langdetect import detect"
   ],
   "metadata": {
    "collapsed": false
   }
  },
  {
   "cell_type": "code",
   "execution_count": 2,
   "outputs": [
    {
     "name": "stdout",
     "output_type": "stream",
     "text": [
      "Ham mail\n"
     ]
    }
   ],
   "source": [
    "import pickle\n",
    "from sklearn.feature_extraction.text import TfidfVectorizer\n",
    "\n",
    "# load the model and the feature extraction object\n",
    "with open('spam_model.pkl', 'rb') as file:\n",
    "    model = pickle.load(file)\n",
    "\n",
    "with open('vectorizer.pkl', 'rb') as file:\n",
    "    feature_extraction = pickle.load(file)\n",
    "\n",
    "# define new input text\n",
    "new_input = [\"I've been searching for the right words to thank you for this breather. I promise i wont take your help for granted and will fulfil my promise. You have been wonderful and a blessing at all times\"]\n",
    "\n",
    "# transform the new input text to feature vectors using the saved feature extraction object\n",
    "new_input_features = feature_extraction.transform(new_input)\n",
    "\n",
    "# make predictions on the new input using the trained model\n",
    "predictions = model.predict(new_input_features)\n",
    "\n",
    "if predictions[0] == 1:\n",
    "    print('Ham mail')\n",
    "else:\n",
    "    print('Spam mail')\n"
   ],
   "metadata": {
    "collapsed": false
   }
  },
  {
   "cell_type": "code",
   "execution_count": 3,
   "outputs": [
    {
     "name": "stderr",
     "output_type": "stream",
     "text": [
      "C:\\Users\\siddh\\AppData\\Local\\Temp\\ipykernel_22156\\3480426635.py:18: DeprecatedFeatureWarning: content is deprecated, use rawContent instead\n",
      "  if detect(tweet.content)=='en':\n",
      "C:\\Users\\siddh\\AppData\\Local\\Temp\\ipykernel_22156\\3480426635.py:19: DeprecatedFeatureWarning: content is deprecated, use rawContent instead\n",
      "  spam_prediction = spam_model.predict(feature_extraction.transform([tweet.content]))\n",
      "C:\\Users\\siddh\\AppData\\Local\\Temp\\ipykernel_22156\\3480426635.py:24: DeprecatedFeatureWarning: content is deprecated, use rawContent instead\n",
      "  category=v[category_model.predict([tweet.content])[0]]\n",
      "C:\\Users\\siddh\\AppData\\Local\\Temp\\ipykernel_22156\\3480426635.py:25: DeprecatedFeatureWarning: username is deprecated, use user.username instead\n",
      "  tweets.append([tweet.date, tweet.username, tweet.content, tweet.user.followersCount, tweet.likeCount, tweet.retweetCount, tweet.hashtags,category,spam_pre])\n",
      "C:\\Users\\siddh\\AppData\\Local\\Temp\\ipykernel_22156\\3480426635.py:25: DeprecatedFeatureWarning: content is deprecated, use rawContent instead\n",
      "  tweets.append([tweet.date, tweet.username, tweet.content, tweet.user.followersCount, tweet.likeCount, tweet.retweetCount, tweet.hashtags,category,spam_pre])\n"
     ]
    },
    {
     "name": "stdout",
     "output_type": "stream",
     "text": [
      "                         Date            User  \\\n",
      "0   2023-04-02 10:26:16+00:00   PerkinBendite   \n",
      "1   2023-04-02 10:22:48+00:00        rabitzng   \n",
      "2   2023-04-02 10:15:54+00:00   gracebender46   \n",
      "3   2023-04-02 09:58:02+00:00     Sock0Puppet   \n",
      "4   2023-04-02 09:46:37+00:00   garythearies1   \n",
      "..                        ...             ...   \n",
      "995 2023-03-22 16:54:36+00:00    behal_dimple   \n",
      "996 2023-03-22 16:52:34+00:00  alifewithallah   \n",
      "997 2023-03-22 16:44:43+00:00   EssexCountyDA   \n",
      "998 2023-03-22 16:40:22+00:00    IUICColumbus   \n",
      "999 2023-03-22 16:28:34+00:00     Pokemajesty   \n",
      "\n",
      "                                                 Tweet  Followers  Likes  \\\n",
      "0    Want to boost your music career on social medi...       1790      0   \n",
      "1    Win 10,000 naira!!\\nBy participating in the da...        854      0   \n",
      "2    Ready to get noticed on social media? https://...       1425      0   \n",
      "3    @HauntedPeppers You hit your head against the ...         12      0   \n",
      "4    @shitcoinlord @RayJack97010720 They promote th...         69      0   \n",
      "..                                                 ...        ...    ...   \n",
      "995  Support our work by following us on social med...        134      0   \n",
      "996  Join @alifewithallah on social media to receiv...      72402     35   \n",
      "997  In addition, there's social media logos provid...        165      0   \n",
      "998  Shalom Israel MHNCBUA!\\n\\nMake sure you go lik...       1488      7   \n",
      "999  Just leaving my other social media outlets her...          0      0   \n",
      "\n",
      "     Retweets                                           Hashtags  \\\n",
      "0           0                         [edm, distrokid, bandcamp]   \n",
      "1           0                         [rabitzstudios, northstar]   \n",
      "2           0                          [youtubemusic, dj, cover]   \n",
      "3           0                                               None   \n",
      "4           0                                               None   \n",
      "..        ...                                                ...   \n",
      "995         0                                               None   \n",
      "996        14                                          [Ramadan]   \n",
      "997         0                                               None   \n",
      "998         4  [IUIC, COLUMBUS, COLUMBUSOHIO, BLACKS, HISPANI...   \n",
      "999         0                       [Twitch, Instagram, YouTube]   \n",
      "\n",
      "          Category Spam/Ham  \n",
      "0             TECH      Ham  \n",
      "1        PARENTING      Ham  \n",
      "2        PARENTING      Ham  \n",
      "3    ENTERTAINMENT      Ham  \n",
      "4             TECH      Ham  \n",
      "..             ...      ...  \n",
      "995       WELLNESS      Ham  \n",
      "996      PARENTING      Ham  \n",
      "997           TECH      Ham  \n",
      "998      PARENTING      Ham  \n",
      "999      PARENTING      Ham  \n",
      "\n",
      "[1000 rows x 9 columns]\n"
     ]
    }
   ],
   "source": [
    "\n",
    "\n",
    "query = \"youtube social media instagram \"\n",
    "tweets = []\n",
    "limit = 1000\n",
    "import pickle\n",
    "v={35: 'U.S. NEWS', 5: 'COMEDY', 22: 'PARENTING', 40: 'WORLD NEWS', 7: 'CULTURE & ARTS', 32: 'TECH', 28: 'SPORTS', 10: 'ENTERTAINMENT', 24: 'POLITICS', 37: 'WEIRD NEWS', 11: 'ENVIRONMENT', 9: 'EDUCATION', 6: 'CRIME', 27: 'SCIENCE', 38: 'WELLNESS', 3: 'BUSINESS', 30: 'STYLE & BEAUTY', 13: 'FOOD & DRINK', 20: 'MEDIA', 25: 'QUEER VOICES', 17: 'HOME & LIVING', 39: 'WOMEN', 2: 'BLACK VOICES', 34: 'TRAVEL', 21: 'MONEY', 26: 'RELIGION', 19: 'LATINO VOICES', 18: 'IMPACT', 36: 'WEDDINGS', 4: 'COLLEGE', 23: 'PARENTS', 1: 'ARTS & CULTURE', 29: 'STYLE', 15: 'GREEN', 31: 'TASTE', 16: 'HEALTHY LIVING', 33: 'THE WORLDPOST', 14: 'GOOD NEWS', 41: 'WORLDPOST', 12: 'FIFTY', 0: 'ARTS', 8: 'DIVORCE'}\n",
    "with open('classify_model.pkl', 'rb') as f:\n",
    "    category_model = pickle.load(f)\n",
    "\n",
    "with open('spam_model.pkl', 'rb') as f:\n",
    "    spam_model = pickle.load(f)\n",
    "\n",
    "for tweet in sntwitter.TwitterSearchScraper(query).get_items():\n",
    "    # print(vars(tweet))\n",
    "    # break\n",
    "    if len(tweets) == limit:\n",
    "        break\n",
    "    else:\n",
    "        if detect(tweet.content)=='en':\n",
    "            spam_prediction = spam_model.predict(feature_extraction.transform([tweet.content]))\n",
    "            if spam_prediction[0] == 1:\n",
    "                spam_pre='Ham'\n",
    "            else:\n",
    "                spam_pre='Spam'\n",
    "            category=v[category_model.predict([tweet.content])[0]]\n",
    "            tweets.append([tweet.date, tweet.username, tweet.content, tweet.user.followersCount, tweet.likeCount, tweet.retweetCount, tweet.hashtags,category,spam_pre])\n",
    "\n",
    "df = pd.DataFrame(tweets, columns=['Date', 'User', 'Tweet', 'Followers', 'Likes', 'Retweets', 'Hashtags','Category','Spam/Ham'])\n",
    "print(df)"
   ],
   "metadata": {
    "collapsed": false
   }
  },
  {
   "cell_type": "code",
   "execution_count": 4,
   "outputs": [],
   "source": [
    "df.to_csv('corpus.csv', mode='a', index=False, header=False)"
   ],
   "metadata": {
    "collapsed": false
   }
  }
 ],
 "metadata": {
  "kernelspec": {
   "display_name": "Python 3",
   "language": "python",
   "name": "python3"
  },
  "language_info": {
   "codemirror_mode": {
    "name": "ipython",
    "version": 2
   },
   "file_extension": ".py",
   "mimetype": "text/x-python",
   "name": "python",
   "nbconvert_exporter": "python",
   "pygments_lexer": "ipython2",
   "version": "2.7.6"
  }
 },
 "nbformat": 4,
 "nbformat_minor": 0
}
