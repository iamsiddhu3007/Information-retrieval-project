{
 "cells": [
  {
   "cell_type": "code",
   "execution_count": 1,
   "id": "144c90ac",
   "metadata": {},
   "outputs": [],
   "source": [
    "#information retrieval\n",
    "#tweet classification\n",
    "#tweet search\n",
    "#more to come"
   ]
  },
  {
   "cell_type": "code",
   "execution_count": 4,
   "outputs": [],
   "source": [
    "import tkinter as tk\n",
    "\n",
    "# Create main window\n",
    "root = tk.Tk()\n",
    "root.title(\"My App\")\n",
    "\n",
    "# Create search box label and entry field\n",
    "search_label = tk.Label(root, text=\"Enter search query:\")\n",
    "search_label.pack()\n",
    "search_entry = tk.Entry(root)\n",
    "search_entry.pack()\n",
    "\n",
    "# Create classify button\n",
    "def classify():\n",
    "    # Create a new window for the classification page\n",
    "    classify_window = tk.Toplevel(root)\n",
    "    classify_window.title(\"Classification Page\")\n",
    "\n",
    "    # Create a label and entry for the classification input\n",
    "    input_label = tk.Label(classify_window, text=\"Enter input:\")\n",
    "    input_label.pack()\n",
    "    input_entry = tk.Entry(classify_window)\n",
    "    input_entry.pack()\n",
    "\n",
    "    # Create a button to classify the input\n",
    "    def classify_input():\n",
    "        # Call the classification function with the input value\n",
    "        result = my_classification_function(input_entry.get())\n",
    "\n",
    "        # Create a label to display the classification result\n",
    "        result_label = tk.Label(classify_window, text=result)\n",
    "        result_label.pack()\n",
    "\n",
    "    classify_button = tk.Button(classify_window, text=\"Classify\", command=classify_input)\n",
    "    classify_button.pack()\n",
    "\n",
    "# Create a function to classify input\n",
    "def my_classification_function(input):\n",
    "    # TODO: Replace with your own classification function\n",
    "    # This is just an example\n",
    "    if input == \"dog\":\n",
    "        return \"Animal\"\n",
    "    else:\n",
    "        return \"Other\"\n",
    "\n",
    "classify_button = tk.Button(root, text=\"Classify\", command=classify)\n",
    "classify_button.pack()\n",
    "\n",
    "root.mainloop()\n"
   ],
   "metadata": {
    "collapsed": false
   }
  },
  {
   "cell_type": "code",
   "execution_count": 11,
   "outputs": [],
   "source": [],
   "metadata": {
    "collapsed": false
   }
  },
  {
   "cell_type": "code",
   "execution_count": 13,
   "outputs": [],
   "source": [],
   "metadata": {
    "collapsed": false
   }
  },
  {
   "cell_type": "code",
   "execution_count": 13,
   "outputs": [],
   "source": [
    "\n",
    "\n"
   ],
   "metadata": {
    "collapsed": false
   }
  },
  {
   "cell_type": "code",
   "execution_count": null,
   "outputs": [],
   "source": [],
   "metadata": {
    "collapsed": false
   }
  }
 ],
 "metadata": {
  "kernelspec": {
   "display_name": "Python 3 (ipykernel)",
   "language": "python",
   "name": "python3"
  },
  "language_info": {
   "codemirror_mode": {
    "name": "ipython",
    "version": 3
   },
   "file_extension": ".py",
   "mimetype": "text/x-python",
   "name": "python",
   "nbconvert_exporter": "python",
   "pygments_lexer": "ipython3",
   "version": "3.11.1"
  }
 },
 "nbformat": 4,
 "nbformat_minor": 5
}
