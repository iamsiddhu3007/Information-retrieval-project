{
 "cells": [
  {
   "cell_type": "code",
   "execution_count": 1,
   "metadata": {},
   "outputs": [
    {
     "name": "stdout",
     "output_type": "stream",
     "text": [
      "Accuracy: 0.552546174772109\n"
     ]
    }
   ],
   "source": [
    "import pandas as pd\n",
    "from sklearn.model_selection import train_test_split\n",
    "from sklearn.feature_extraction.text import CountVectorizer\n",
    "from sklearn.naive_bayes import MultinomialNB\n",
    "\n",
    "# Load the dataset\n",
    "df = pd.read_json(\"News_Category_Dataset_v3.json\", lines=True)\n",
    "\n",
    "# Concatenate the headline and short_description columns into a single text column\n",
    "df['text'] = df['headline'] + \" \" + df['short_description']\n",
    "\n",
    "# Split the dataset into training and testing sets\n",
    "X_train, X_test, y_train, y_test = train_test_split(df['text'], df['category'], test_size=0.2, stratify=df['category'])\n",
    "\n",
    "# Create a CountVectorizer object to convert text to a matrix of token counts\n",
    "vectorizer = CountVectorizer(stop_words=\"english\")\n",
    "\n",
    "# Fit the vectorizer to the training data and transform the training data\n",
    "X_train_counts = vectorizer.fit_transform(X_train)\n",
    "\n",
    "# Create a MultinomialNB object for classification and train it on the transformed training data\n",
    "clf = MultinomialNB(alpha=0.01)\n",
    "clf.fit(X_train_counts, y_train)\n",
    "\n",
    "# Transform the testing data using the same vectorizer and predict the categories\n",
    "X_test_counts = vectorizer.transform(X_test)\n",
    "predicted = clf.predict(X_test_counts)\n",
    "\n",
    "# Print the accuracy score of the classifier on the testing data\n",
    "print(\"Accuracy:\", clf.score(X_test_counts, y_test))\n"
   ]
  },
  {
   "cell_type": "code",
   "execution_count": null,
   "metadata": {},
   "outputs": [],
   "source": []
  }
 ],
 "metadata": {
  "kernelspec": {
   "display_name": "Python 3 (ipykernel)",
   "language": "python",
   "name": "python3"
  },
  "language_info": {
   "codemirror_mode": {
    "name": "ipython",
    "version": 3
   },
   "file_extension": ".py",
   "mimetype": "text/x-python",
   "name": "python",
   "nbconvert_exporter": "python",
   "pygments_lexer": "ipython3",
   "version": "3.11.1"
  }
 },
 "nbformat": 4,
 "nbformat_minor": 1
}
